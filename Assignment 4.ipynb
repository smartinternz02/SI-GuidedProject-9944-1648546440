{
 "cells": [
  {
   "cell_type": "markdown",
   "id": "246fd027",
   "metadata": {},
   "source": [
    "# Assignment 4"
   ]
  },
  {
   "cell_type": "code",
   "execution_count": 1,
   "id": "33bc82c6",
   "metadata": {},
   "outputs": [],
   "source": [
    "from tensorflow.keras.preprocessing.image import ImageDataGenerator"
   ]
  },
  {
   "cell_type": "code",
   "execution_count": 2,
   "id": "6d2d2512",
   "metadata": {},
   "outputs": [],
   "source": [
    "train_datagen = ImageDataGenerator(rescale=1/255,zoom_range=0.2,horizontal_flip=True,vertical_flip=False)"
   ]
  },
  {
   "cell_type": "code",
   "execution_count": 3,
   "id": "cafcfcf9",
   "metadata": {},
   "outputs": [],
   "source": [
    "train_datagen = ImageDataGenerator(rescale=1/255)"
   ]
  },
  {
   "cell_type": "code",
   "execution_count": 4,
   "id": "b68eb498",
   "metadata": {},
   "outputs": [],
   "source": [
    "test_datagen = ImageDataGenerator(rescale=1/255)"
   ]
  },
  {
   "cell_type": "code",
   "execution_count": 5,
   "id": "c6d8404a",
   "metadata": {},
   "outputs": [
    {
     "name": "stdout",
     "output_type": "stream",
     "text": [
      "Found 3352 images belonging to 7 classes.\n"
     ]
    }
   ],
   "source": [
    "x_train=train_datagen.flow_from_directory(r'E:\\AIML_Externship\\Contents\\Cars_Dataset\\train',target_size=(64,64),class_mode = 'categorical',batch_size=100)"
   ]
  },
  {
   "cell_type": "code",
   "execution_count": 6,
   "id": "5ab0bdd1",
   "metadata": {},
   "outputs": [
    {
     "data": {
      "text/plain": [
       "34"
      ]
     },
     "execution_count": 6,
     "metadata": {},
     "output_type": "execute_result"
    }
   ],
   "source": [
    "len(x_train)"
   ]
  },
  {
   "cell_type": "code",
   "execution_count": 7,
   "id": "6ebad1ce",
   "metadata": {},
   "outputs": [
    {
     "name": "stdout",
     "output_type": "stream",
     "text": [
      "Found 813 images belonging to 7 classes.\n"
     ]
    }
   ],
   "source": [
    "x_test=test_datagen.flow_from_directory(r'E:\\AIML_Externship\\Contents\\Cars_Dataset\\test',target_size=(64,64),class_mode = 'categorical',batch_size=100)"
   ]
  },
  {
   "cell_type": "code",
   "execution_count": 8,
   "id": "3caf1ac3",
   "metadata": {},
   "outputs": [
    {
     "data": {
      "text/plain": [
       "9"
      ]
     },
     "execution_count": 8,
     "metadata": {},
     "output_type": "execute_result"
    }
   ],
   "source": [
    "len(x_test)"
   ]
  },
  {
   "cell_type": "code",
   "execution_count": 9,
   "id": "574eac07",
   "metadata": {},
   "outputs": [
    {
     "data": {
      "text/plain": [
       "{'Audi': 0,\n",
       " 'Hyundai Creta': 1,\n",
       " 'Mahindra Scorpio': 2,\n",
       " 'Rolls Royce': 3,\n",
       " 'Swift': 4,\n",
       " 'Tata Safari': 5,\n",
       " 'Toyota Innova': 6}"
      ]
     },
     "execution_count": 9,
     "metadata": {},
     "output_type": "execute_result"
    }
   ],
   "source": [
    "x_train.class_indices"
   ]
  },
  {
   "cell_type": "markdown",
   "id": "e92961a6",
   "metadata": {},
   "source": [
    "# Import libraries"
   ]
  },
  {
   "cell_type": "code",
   "execution_count": 10,
   "id": "9eb614c3",
   "metadata": {},
   "outputs": [],
   "source": [
    "from tensorflow.keras.models import Sequential\n",
    "from tensorflow.keras.layers import Convolution2D,MaxPooling2D,Flatten,Dense"
   ]
  },
  {
   "cell_type": "markdown",
   "id": "eb39544e",
   "metadata": {},
   "source": [
    "# Create the model"
   ]
  },
  {
   "cell_type": "code",
   "execution_count": 11,
   "id": "ccbe17b6",
   "metadata": {},
   "outputs": [],
   "source": [
    "model = Sequential()"
   ]
  },
  {
   "cell_type": "markdown",
   "id": "8c0527a2",
   "metadata": {},
   "source": [
    "# Add layers"
   ]
  },
  {
   "cell_type": "code",
   "execution_count": 12,
   "id": "9eac7e34",
   "metadata": {},
   "outputs": [],
   "source": [
    "model.add(Convolution2D(32,(3,3),activation='relu',input_shape=(64,64,3)))"
   ]
  },
  {
   "cell_type": "code",
   "execution_count": 13,
   "id": "5de9520b",
   "metadata": {},
   "outputs": [],
   "source": [
    "model.add(MaxPooling2D(pool_size=(2,2)))"
   ]
  },
  {
   "cell_type": "code",
   "execution_count": 14,
   "id": "ec7c3183",
   "metadata": {},
   "outputs": [],
   "source": [
    "model.add(Flatten())"
   ]
  },
  {
   "cell_type": "code",
   "execution_count": 15,
   "id": "d811d072",
   "metadata": {},
   "outputs": [],
   "source": [
    "#hidden layer - 1\n",
    "model.add(Dense(300,activation = 'relu'))"
   ]
  },
  {
   "cell_type": "code",
   "execution_count": 16,
   "id": "03e4e806",
   "metadata": {},
   "outputs": [],
   "source": [
    "#hiddenlayer - 2\n",
    "model.add(Dense(150,activation='relu'))"
   ]
  },
  {
   "cell_type": "code",
   "execution_count": 17,
   "id": "ec533289",
   "metadata": {},
   "outputs": [],
   "source": [
    "#output layer\n",
    "model.add(Dense(7,activation='softmax'))"
   ]
  },
  {
   "cell_type": "markdown",
   "id": "45780b05",
   "metadata": {},
   "source": [
    "# Compile the model"
   ]
  },
  {
   "cell_type": "code",
   "execution_count": 18,
   "id": "05c47cd3",
   "metadata": {},
   "outputs": [],
   "source": [
    "model.compile(loss='categorical_crossentropy',optimizer='adam',metrics=['accuracy'])"
   ]
  },
  {
   "cell_type": "markdown",
   "id": "a39763d9",
   "metadata": {},
   "source": [
    "# Fit the model"
   ]
  },
  {
   "cell_type": "code",
   "execution_count": 19,
   "id": "e75439d1",
   "metadata": {},
   "outputs": [
    {
     "name": "stderr",
     "output_type": "stream",
     "text": [
      "C:\\Users\\shimona4199\\AppData\\Local\\Temp/ipykernel_16088/1177999562.py:7: UserWarning: `Model.fit_generator` is deprecated and will be removed in a future version. Please use `Model.fit`, which supports generators.\n",
      "  model.fit_generator(x_train,steps_per_epoch=len(x_train),epochs=10,validation_data=x_test,validation_steps=len(x_test))\n"
     ]
    },
    {
     "name": "stdout",
     "output_type": "stream",
     "text": [
      "Epoch 1/10\n",
      "34/34 [==============================] - 12s 335ms/step - loss: 3.0998 - accuracy: 0.2363 - val_loss: 1.7978 - val_accuracy: 0.3050\n",
      "Epoch 2/10\n",
      "34/34 [==============================] - 11s 336ms/step - loss: 1.7031 - accuracy: 0.3941 - val_loss: 1.6267 - val_accuracy: 0.3813\n",
      "Epoch 3/10\n",
      "34/34 [==============================] - 12s 346ms/step - loss: 1.4527 - accuracy: 0.4902 - val_loss: 1.4039 - val_accuracy: 0.5043\n",
      "Epoch 4/10\n",
      "34/34 [==============================] - 12s 337ms/step - loss: 1.1822 - accuracy: 0.6050 - val_loss: 1.3147 - val_accuracy: 0.5178\n",
      "Epoch 5/10\n",
      "34/34 [==============================] - 11s 323ms/step - loss: 0.9446 - accuracy: 0.6930 - val_loss: 1.2274 - val_accuracy: 0.5855\n",
      "Epoch 6/10\n",
      "34/34 [==============================] - 11s 326ms/step - loss: 0.7345 - accuracy: 0.7754 - val_loss: 1.1857 - val_accuracy: 0.5990\n",
      "Epoch 7/10\n",
      "34/34 [==============================] - 11s 329ms/step - loss: 0.5179 - accuracy: 0.8580 - val_loss: 1.1863 - val_accuracy: 0.6015\n",
      "Epoch 8/10\n",
      "34/34 [==============================] - 12s 367ms/step - loss: 0.3537 - accuracy: 0.9093 - val_loss: 1.2034 - val_accuracy: 0.6322\n",
      "Epoch 9/10\n",
      "34/34 [==============================] - 11s 333ms/step - loss: 0.2424 - accuracy: 0.9451 - val_loss: 1.2916 - val_accuracy: 0.6248\n",
      "Epoch 10/10\n",
      "34/34 [==============================] - 11s 329ms/step - loss: 0.1593 - accuracy: 0.9717 - val_loss: 1.2785 - val_accuracy: 0.6335\n"
     ]
    },
    {
     "data": {
      "text/plain": [
       "<keras.callbacks.History at 0x24befc7f310>"
      ]
     },
     "execution_count": 19,
     "metadata": {},
     "output_type": "execute_result"
    }
   ],
   "source": [
    "#model.fit_generator(x_train,steps_per_epoch = len(x_train),epochs=10,validation_data=x_test,validation_steps=len(x_test))\n",
    "\n",
    "#model.fit_generator(x_train,steps_per_epoch = len(x_train),epochs=10,validation_data = x_test,validation_steps=len(x_test))\n",
    "\n",
    "#model.fit_generator(x_train,steps_per_epoch=len(x_train),epochs=10)\n",
    "\n",
    "model.fit_generator(x_train,steps_per_epoch=len(x_train),epochs=10,validation_data=x_test,validation_steps=len(x_test))"
   ]
  },
  {
   "cell_type": "code",
   "execution_count": 20,
   "id": "275fc117",
   "metadata": {},
   "outputs": [],
   "source": [
    "model.save('cars.h5')"
   ]
  },
  {
   "cell_type": "markdown",
   "id": "03cf3536",
   "metadata": {},
   "source": [
    "# Testing the CNN model"
   ]
  },
  {
   "cell_type": "code",
   "execution_count": 21,
   "id": "75e25fb4",
   "metadata": {},
   "outputs": [],
   "source": [
    "import numpy as np\n",
    "from tensorflow.keras.models import load_model\n",
    "from tensorflow.keras.preprocessing import image"
   ]
  },
  {
   "cell_type": "code",
   "execution_count": 22,
   "id": "8ff44c08",
   "metadata": {},
   "outputs": [],
   "source": [
    "model = load_model('cars.h5')"
   ]
  },
  {
   "cell_type": "code",
   "execution_count": 23,
   "id": "5dbbfe65",
   "metadata": {},
   "outputs": [],
   "source": [
    "img = image.load_img(r'E:\\AIML_Externship\\Contents\\Cars_Dataset\\test\\Rolls Royce\\101.jpg',target_size=(64,64))"
   ]
  },
  {
   "cell_type": "code",
   "execution_count": 24,
   "id": "a907182a",
   "metadata": {},
   "outputs": [
    {
     "data": {
      "image/png": "[encoded data removed]",
      "text/plain": [
       "<PIL.Image.Image image mode=RGB size=64x64 at 0x24B8006C910>"
      ]
     },
     "execution_count": 24,
     "metadata": {},
     "output_type": "execute_result"
    }
   ],
   "source": [
    "img"
   ]
  },
  {
   "cell_type": "code",
   "execution_count": 25,
   "id": "8849206d",
   "metadata": {},
   "outputs": [],
   "source": [
    "x=image.img_to_array(img)"
   ]
  },
  {
   "cell_type": "code",
   "execution_count": 26,
   "id": "87e58b32",
   "metadata": {},
   "outputs": [
    {
     "data": {
      "text/plain": [
       "3"
      ]
     },
     "execution_count": 26,
     "metadata": {},
     "output_type": "execute_result"
    }
   ],
   "source": [
    "x.ndim"
   ]
  },
  {
   "cell_type": "code",
   "execution_count": 27,
   "id": "71ecc7e7",
   "metadata": {},
   "outputs": [],
   "source": [
    "x=np.expand_dims(x,axis=0)"
   ]
  },
  {
   "cell_type": "code",
   "execution_count": 28,
   "id": "72a51d3a",
   "metadata": {},
   "outputs": [
    {
     "data": {
      "text/plain": [
       "array([[[[  6.,   5.,  13.],\n",
       "         [ 16.,  15.,  23.],\n",
       "         [ 18.,  17.,  25.],\n",
       "         ...,\n",
       "         [160., 172., 188.],\n",
       "         [159., 171., 187.],\n",
       "         [229., 232., 237.]],\n",
       "\n",
       "        [[  6.,   5.,  13.],\n",
       "         [ 22.,  21.,  29.],\n",
       "         [ 36.,  35.,  43.],\n",
       "         ...,\n",
       "         [152., 165., 181.],\n",
       "         [154., 167., 183.],\n",
       "         [190., 188., 191.]],\n",
       "\n",
       "        [[ 46.,  45.,  53.],\n",
       "         [ 52.,  51.,  59.],\n",
       "         [ 51.,  50.,  58.],\n",
       "         ...,\n",
       "         [159., 175., 190.],\n",
       "         [164., 180., 195.],\n",
       "         [160., 172., 186.]],\n",
       "\n",
       "        ...,\n",
       "\n",
       "        [[ 78.,  76.,  79.],\n",
       "         [ 76.,  74.,  77.],\n",
       "         [ 77.,  75.,  78.],\n",
       "         ...,\n",
       "         [100.,  98.,  99.],\n",
       "         [ 98.,  96.,  97.],\n",
       "         [ 94.,  92.,  93.]],\n",
       "\n",
       "        [[ 74.,  74.,  76.],\n",
       "         [ 73.,  73.,  75.],\n",
       "         [ 75.,  75.,  77.],\n",
       "         ...,\n",
       "         [ 96.,  94.,  95.],\n",
       "         [ 99.,  97.,  98.],\n",
       "         [101.,  95.,  97.]],\n",
       "\n",
       "        [[ 70.,  70.,  72.],\n",
       "         [ 69.,  69.,  71.],\n",
       "         [ 75.,  75.,  77.],\n",
       "         ...,\n",
       "         [ 99.,  97.,  98.],\n",
       "         [ 93.,  91.,  92.],\n",
       "         [ 97.,  93.,  94.]]]], dtype=float32)"
      ]
     },
     "execution_count": 28,
     "metadata": {},
     "output_type": "execute_result"
    }
   ],
   "source": [
    "x"
   ]
  },
  {
   "cell_type": "code",
   "execution_count": 29,
   "id": "cc526c7a",
   "metadata": {},
   "outputs": [
    {
     "data": {
      "text/plain": [
       "4"
      ]
     },
     "execution_count": 29,
     "metadata": {},
     "output_type": "execute_result"
    }
   ],
   "source": [
    "x.ndim"
   ]
  },
  {
   "cell_type": "code",
   "execution_count": 30,
   "id": "c797b32d",
   "metadata": {},
   "outputs": [],
   "source": [
    "pred=np.argmax(model.predict(x),axis=1)"
   ]
  },
  {
   "cell_type": "code",
   "execution_count": 31,
   "id": "d515b18b",
   "metadata": {},
   "outputs": [
    {
     "data": {
      "text/plain": [
       "array([6], dtype=int64)"
      ]
     },
     "execution_count": 31,
     "metadata": {},
     "output_type": "execute_result"
    }
   ],
   "source": [
    "pred"
   ]
  },
  {
   "cell_type": "code",
   "execution_count": 32,
   "id": "063feeb3",
   "metadata": {},
   "outputs": [
    {
     "name": "stdout",
     "output_type": "stream",
     "text": [
      "Toyota Innova\n"
     ]
    }
   ],
   "source": [
    "index = ['Audi','Hyundai Creta','Mahindra Scorpio','Rolls Royce','Swift','Tata Safari','Toyota Innova']\n",
    "print(index[pred[0]])"
   ]
  },
  {
   "cell_type": "markdown",
   "id": "3c60d6dd",
   "metadata": {},
   "source": [
    "# Open CV"
   ]
  },
  {
   "cell_type": "code",
   "execution_count": 33,
   "id": "72d54ee5",
   "metadata": {},
   "outputs": [],
   "source": [
    "import cv2"
   ]
  },
  {
   "cell_type": "code",
   "execution_count": 34,
   "id": "83d07360",
   "metadata": {},
   "outputs": [],
   "source": [
    "img = cv2.imread(r'E:\\AIML_Externship\\Contents\\Cars_Dataset\\test\\Rolls Royce\\101.jpg',1)"
   ]
  },
  {
   "cell_type": "code",
   "execution_count": 35,
   "id": "54b8e271",
   "metadata": {},
   "outputs": [
    {
     "data": {
      "text/plain": [
       "array([[[  7,   0,   0],\n",
       "        [  7,   0,   0],\n",
       "        [  9,   1,   2],\n",
       "        ...,\n",
       "        [242, 234, 227],\n",
       "        [235, 231, 226],\n",
       "        [231, 227, 222]],\n",
       "\n",
       "       [[ 10,   2,   3],\n",
       "        [ 11,   3,   4],\n",
       "        [ 13,   5,   6],\n",
       "        ...,\n",
       "        [239, 233, 228],\n",
       "        [234, 231, 227],\n",
       "        [231, 226, 223]],\n",
       "\n",
       "       [[ 14,   6,   7],\n",
       "        [ 14,   6,   7],\n",
       "        [ 15,   7,   8],\n",
       "        ...,\n",
       "        [228, 221, 218],\n",
       "        [221, 219, 218],\n",
       "        [221, 217, 216]],\n",
       "\n",
       "       ...,\n",
       "\n",
       "       [[ 72,  70,  70],\n",
       "        [ 72,  70,  70],\n",
       "        [ 72,  70,  70],\n",
       "        ...,\n",
       "        [ 97,  96, 100],\n",
       "        [ 96,  95,  99],\n",
       "        [ 96,  95,  99]],\n",
       "\n",
       "       [[ 73,  71,  71],\n",
       "        [ 72,  70,  70],\n",
       "        [ 72,  70,  70],\n",
       "        ...,\n",
       "        [ 94,  93,  97],\n",
       "        [ 94,  93,  97],\n",
       "        [ 94,  93,  97]],\n",
       "\n",
       "       [[ 74,  72,  72],\n",
       "        [ 74,  72,  72],\n",
       "        [ 74,  72,  72],\n",
       "        ...,\n",
       "        [ 91,  90,  94],\n",
       "        [ 91,  90,  94],\n",
       "        [ 90,  89,  93]]], dtype=uint8)"
      ]
     },
     "execution_count": 35,
     "metadata": {},
     "output_type": "execute_result"
    }
   ],
   "source": [
    "img"
   ]
  },
  {
   "cell_type": "code",
   "execution_count": 36,
   "id": "b05f0d3b",
   "metadata": {},
   "outputs": [],
   "source": [
    "img1 = cv2.imread(r'E:\\AIML_Externship\\Contents\\Cars_Dataset\\test\\Rolls Royce\\101.jpg',0)"
   ]
  },
  {
   "cell_type": "code",
   "execution_count": 37,
   "id": "2fa133f2",
   "metadata": {},
   "outputs": [
    {
     "data": {
      "text/plain": [
       "array([[  0,   0,   2, ..., 233, 230, 226],\n",
       "       [  3,   4,   6, ..., 232, 230, 226],\n",
       "       [  7,   7,   8, ..., 221, 219, 217],\n",
       "       ...,\n",
       "       [ 70,  70,  70, ...,  97,  96,  96],\n",
       "       [ 71,  70,  70, ...,  94,  94,  94],\n",
       "       [ 72,  72,  72, ...,  91,  91,  90]], dtype=uint8)"
      ]
     },
     "execution_count": 37,
     "metadata": {},
     "output_type": "execute_result"
    }
   ],
   "source": [
    "img1"
   ]
  },
  {
   "cell_type": "code",
   "execution_count": 38,
   "id": "ea94ea21",
   "metadata": {},
   "outputs": [
    {
     "name": "stdout",
     "output_type": "stream",
     "text": [
      "(183, 275, 3)\n"
     ]
    }
   ],
   "source": [
    "print(img.shape)"
   ]
  },
  {
   "cell_type": "code",
   "execution_count": 39,
   "id": "cc065504",
   "metadata": {},
   "outputs": [],
   "source": [
    "cv2.imshow('image',img)\n",
    "cv2.waitKey(0)\n",
    "cv2.destroyAllWindows()"
   ]
  },
  {
   "cell_type": "markdown",
   "id": "4a0c607b",
   "metadata": {},
   "source": [
    "# CNN Video Analysis"
   ]
  },
  {
   "cell_type": "code",
   "execution_count": 40,
   "id": "57dff20d",
   "metadata": {},
   "outputs": [],
   "source": [
    "import cv2\n",
    "import numpy as np\n",
    "from tensorflow.keras.models import load_model\n",
    "from tensorflow.keras.preprocessing import image\n",
    "model=load_model('cars.h5')\n",
    "video=cv2.VideoCapture(0)\n",
    "index=['Audi','Hyundai Creta','Mahindra Scorpio','Rolls Royce','Swift','Tata Safari','Toyota Innova']\n",
    "while 1:\n",
    "    succes,frame=video.read()\n",
    "    cv2.imwrite('image.jpg',frame)\n",
    "    img=image.load_img('image.jpg',target_size=(64,64))\n",
    "    x=image.img_to_array(img)\n",
    "    x=np.expand_dims(x,axis=0)\n",
    "    pred=np.argmax(model.predict(x),axis=1)\n",
    "    y=pred[0]\n",
    "    cv2.putText(frame,'The predicted Cars is: '+str(index[y]),(100,100),cv2.FONT_HERSHEY_SIMPLEX,1,(0,0,0),4)\n",
    "    cv2.imshow('image',frame)\n",
    "    if cv2.waitKey(1) & 0xFF == ord('q'):\n",
    "        break\n",
    "video.release()\n",
    "cv2.destroyAllWindows()"
   ]
  },
  {
   "cell_type": "code",
   "execution_count": null,
   "id": "22f65e96",
   "metadata": {},
   "outputs": [],
   "source": []
  }
 ],
 "metadata": {
  "kernelspec": {
   "display_name": "Python 3 (ipykernel)",
   "language": "python",
   "name": "python3"
  },
  "language_info": {
   "codemirror_mode": {
    "name": "ipython",
    "version": 3
   },
   "file_extension": ".py",
   "mimetype": "text/x-python",
   "name": "python",
   "nbconvert_exporter": "python",
   "pygments_lexer": "ipython3",
   "version": "3.9.7"
  }
 },
 "nbformat": 4,
 "nbformat_minor": 5
}
